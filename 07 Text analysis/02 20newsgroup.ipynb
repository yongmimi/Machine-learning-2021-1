{
 "metadata": {
  "language_info": {
   "codemirror_mode": {
    "name": "ipython",
    "version": 3
   },
   "file_extension": ".py",
   "mimetype": "text/x-python",
   "name": "python",
   "nbconvert_exporter": "python",
   "pygments_lexer": "ipython3",
   "version": "3.9.2-final"
  },
  "orig_nbformat": 2,
  "kernelspec": {
   "name": "python392jvsc74a57bd002c0e9898d779838130bd97d7cf547dbfe09bd0294c45d6e8e3e8a3e0b6bd06b",
   "display_name": "Python 3.9.2 64-bit"
  }
 },
 "nbformat": 4,
 "nbformat_minor": 2,
 "cells": [
  {
   "source": [
    "# 20 뉴스 그룹 분류"
   ],
   "cell_type": "markdown",
   "metadata": {}
  },
  {
   "cell_type": "code",
   "execution_count": 3,
   "metadata": {},
   "outputs": [],
   "source": [
    "import numpy as np \n",
    "import pandas as pd "
   ]
  },
  {
   "cell_type": "code",
   "execution_count": 4,
   "metadata": {},
   "outputs": [],
   "source": [
    "from sklearn.datasets import fetch_20newsgroups\n",
    "news = fetch_20newsgroups(subset='all', random_state=2021)"
   ]
  },
  {
   "cell_type": "code",
   "execution_count": 5,
   "metadata": {},
   "outputs": [
    {
     "output_type": "stream",
     "name": "stdout",
     "text": [
      ".. _20newsgroups_dataset:\n\nThe 20 newsgroups text dataset\n------------------------------\n\nThe 20 newsgroups dataset comprises around 18000 newsgroups posts on\n20 topics split in two subsets: one for training (or development)\nand the other one for testing (or for performance evaluation). The split\nbetween the train and test set is based upon a messages posted before\nand after a specific date.\n\nThis module contains two loaders. The first one,\n:func:`sklearn.datasets.fetch_20newsgroups`,\nreturns a list of the raw texts that can be fed to text feature\nextractors such as :class:`~sklearn.feature_extraction.text.CountVectorizer`\nwith custom parameters so as to extract feature vectors.\nThe second one, :func:`sklearn.datasets.fetch_20newsgroups_vectorized`,\nreturns ready-to-use features, i.e., it is not necessary to use a feature\nextractor.\n\n**Data Set Characteristics:**\n\n    =================   ==========\n    Classes                     20\n    Samples total            18846\n    Dimensionality               1\n    Features                  text\n    =================   ==========\n\nUsage\n~~~~~\n\nThe :func:`sklearn.datasets.fetch_20newsgroups` function is a data\nfetching / caching functions that downloads the data archive from\nthe original `20 newsgroups website`_, extracts the archive contents\nin the ``~/scikit_learn_data/20news_home`` folder and calls the\n:func:`sklearn.datasets.load_files` on either the training or\ntesting set folder, or both of them::\n\n  >>> from sklearn.datasets import fetch_20newsgroups\n  >>> newsgroups_train = fetch_20newsgroups(subset='train')\n\n  >>> from pprint import pprint\n  >>> pprint(list(newsgroups_train.target_names))\n  ['alt.atheism',\n   'comp.graphics',\n   'comp.os.ms-windows.misc',\n   'comp.sys.ibm.pc.hardware',\n   'comp.sys.mac.hardware',\n   'comp.windows.x',\n   'misc.forsale',\n   'rec.autos',\n   'rec.motorcycles',\n   'rec.sport.baseball',\n   'rec.sport.hockey',\n   'sci.crypt',\n   'sci.electronics',\n   'sci.med',\n   'sci.space',\n   'soc.religion.christian',\n   'talk.politics.guns',\n   'talk.politics.mideast',\n   'talk.politics.misc',\n   'talk.religion.misc']\n\nThe real data lies in the ``filenames`` and ``target`` attributes. The target\nattribute is the integer index of the category::\n\n  >>> newsgroups_train.filenames.shape\n  (11314,)\n  >>> newsgroups_train.target.shape\n  (11314,)\n  >>> newsgroups_train.target[:10]\n  array([ 7,  4,  4,  1, 14, 16, 13,  3,  2,  4])\n\nIt is possible to load only a sub-selection of the categories by passing the\nlist of the categories to load to the\n:func:`sklearn.datasets.fetch_20newsgroups` function::\n\n  >>> cats = ['alt.atheism', 'sci.space']\n  >>> newsgroups_train = fetch_20newsgroups(subset='train', categories=cats)\n\n  >>> list(newsgroups_train.target_names)\n  ['alt.atheism', 'sci.space']\n  >>> newsgroups_train.filenames.shape\n  (1073,)\n  >>> newsgroups_train.target.shape\n  (1073,)\n  >>> newsgroups_train.target[:10]\n  array([0, 1, 1, 1, 0, 1, 1, 0, 0, 0])\n\nConverting text to vectors\n~~~~~~~~~~~~~~~~~~~~~~~~~~\n\nIn order to feed predictive or clustering models with the text data,\none first need to turn the text into vectors of numerical values suitable\nfor statistical analysis. This can be achieved with the utilities of the\n``sklearn.feature_extraction.text`` as demonstrated in the following\nexample that extract `TF-IDF`_ vectors of unigram tokens\nfrom a subset of 20news::\n\n  >>> from sklearn.feature_extraction.text import TfidfVectorizer\n  >>> categories = ['alt.atheism', 'talk.religion.misc',\n  ...               'comp.graphics', 'sci.space']\n  >>> newsgroups_train = fetch_20newsgroups(subset='train',\n  ...                                       categories=categories)\n  >>> vectorizer = TfidfVectorizer()\n  >>> vectors = vectorizer.fit_transform(newsgroups_train.data)\n  >>> vectors.shape\n  (2034, 34118)\n\nThe extracted TF-IDF vectors are very sparse, with an average of 159 non-zero\ncomponents by sample in a more than 30000-dimensional space\n(less than .5% non-zero features)::\n\n  >>> vectors.nnz / float(vectors.shape[0])\n  159.01327...\n\n:func:`sklearn.datasets.fetch_20newsgroups_vectorized` is a function which \nreturns ready-to-use token counts features instead of file names.\n\n.. _`20 newsgroups website`: http://people.csail.mit.edu/jrennie/20Newsgroups/\n.. _`TF-IDF`: https://en.wikipedia.org/wiki/Tf-idf\n\n\nFiltering text for more realistic training\n~~~~~~~~~~~~~~~~~~~~~~~~~~~~~~~~~~~~~~~~~~\n\nIt is easy for a classifier to overfit on particular things that appear in the\n20 Newsgroups data, such as newsgroup headers. Many classifiers achieve very\nhigh F-scores, but their results would not generalize to other documents that\naren't from this window of time.\n\nFor example, let's look at the results of a multinomial Naive Bayes classifier,\nwhich is fast to train and achieves a decent F-score::\n\n  >>> from sklearn.naive_bayes import MultinomialNB\n  >>> from sklearn import metrics\n  >>> newsgroups_test = fetch_20newsgroups(subset='test',\n  ...                                      categories=categories)\n  >>> vectors_test = vectorizer.transform(newsgroups_test.data)\n  >>> clf = MultinomialNB(alpha=.01)\n  >>> clf.fit(vectors, newsgroups_train.target)\n  MultinomialNB(alpha=0.01, class_prior=None, fit_prior=True)\n\n  >>> pred = clf.predict(vectors_test)\n  >>> metrics.f1_score(newsgroups_test.target, pred, average='macro')\n  0.88213...\n\n(The example :ref:`sphx_glr_auto_examples_text_plot_document_classification_20newsgroups.py` shuffles\nthe training and test data, instead of segmenting by time, and in that case\nmultinomial Naive Bayes gets a much higher F-score of 0.88. Are you suspicious\nyet of what's going on inside this classifier?)\n\nLet's take a look at what the most informative features are:\n\n  >>> import numpy as np\n  >>> def show_top10(classifier, vectorizer, categories):\n  ...     feature_names = np.asarray(vectorizer.get_feature_names())\n  ...     for i, category in enumerate(categories):\n  ...         top10 = np.argsort(classifier.coef_[i])[-10:]\n  ...         print(\"%s: %s\" % (category, \" \".join(feature_names[top10])))\n  ...\n  >>> show_top10(clf, vectorizer, newsgroups_train.target_names)\n  alt.atheism: edu it and in you that is of to the\n  comp.graphics: edu in graphics it is for and of to the\n  sci.space: edu it that is in and space to of the\n  talk.religion.misc: not it you in is that and to of the\n\n\nYou can now see many things that these features have overfit to:\n\n- Almost every group is distinguished by whether headers such as\n  ``NNTP-Posting-Host:`` and ``Distribution:`` appear more or less often.\n- Another significant feature involves whether the sender is affiliated with\n  a university, as indicated either by their headers or their signature.\n- The word \"article\" is a significant feature, based on how often people quote\n  previous posts like this: \"In article [article ID], [name] <[e-mail address]>\n  wrote:\"\n- Other features match the names and e-mail addresses of particular people who\n  were posting at the time.\n\nWith such an abundance of clues that distinguish newsgroups, the classifiers\nbarely have to identify topics from text at all, and they all perform at the\nsame high level.\n\nFor this reason, the functions that load 20 Newsgroups data provide a\nparameter called **remove**, telling it what kinds of information to strip out\nof each file. **remove** should be a tuple containing any subset of\n``('headers', 'footers', 'quotes')``, telling it to remove headers, signature\nblocks, and quotation blocks respectively.\n\n  >>> newsgroups_test = fetch_20newsgroups(subset='test',\n  ...                                      remove=('headers', 'footers', 'quotes'),\n  ...                                      categories=categories)\n  >>> vectors_test = vectorizer.transform(newsgroups_test.data)\n  >>> pred = clf.predict(vectors_test)\n  >>> metrics.f1_score(pred, newsgroups_test.target, average='macro')\n  0.77310...\n\nThis classifier lost over a lot of its F-score, just because we removed\nmetadata that has little to do with topic classification.\nIt loses even more if we also strip this metadata from the training data:\n\n  >>> newsgroups_train = fetch_20newsgroups(subset='train',\n  ...                                       remove=('headers', 'footers', 'quotes'),\n  ...                                       categories=categories)\n  >>> vectors = vectorizer.fit_transform(newsgroups_train.data)\n  >>> clf = MultinomialNB(alpha=.01)\n  >>> clf.fit(vectors, newsgroups_train.target)\n  MultinomialNB(alpha=0.01, class_prior=None, fit_prior=True)\n\n  >>> vectors_test = vectorizer.transform(newsgroups_test.data)\n  >>> pred = clf.predict(vectors_test)\n  >>> metrics.f1_score(newsgroups_test.target, pred, average='macro')\n  0.76995...\n\nSome other classifiers cope better with this harder version of the task. Try\nrunning :ref:`sphx_glr_auto_examples_model_selection_grid_search_text_feature_extraction.py` with and without\nthe ``--filter`` option to compare the results.\n\n.. topic:: Recommendation\n\n  When evaluating text classifiers on the 20 Newsgroups data, you\n  should strip newsgroup-related metadata. In scikit-learn, you can do this by\n  setting ``remove=('headers', 'footers', 'quotes')``. The F-score will be\n  lower because it is more realistic.\n\n.. topic:: Examples\n\n   * :ref:`sphx_glr_auto_examples_model_selection_grid_search_text_feature_extraction.py`\n\n   * :ref:`sphx_glr_auto_examples_text_plot_document_classification_20newsgroups.py`\n\n"
     ]
    }
   ],
   "source": [
    "print(news.DESCR)"
   ]
  },
  {
   "source": [
    "# 타켓 클래스의 값과 분포도"
   ],
   "cell_type": "markdown",
   "metadata": {}
  },
  {
   "cell_type": "code",
   "execution_count": 8,
   "metadata": {},
   "outputs": [
    {
     "output_type": "execute_result",
     "data": {
      "text/plain": [
       "0     799\n",
       "1     973\n",
       "2     985\n",
       "3     982\n",
       "4     963\n",
       "5     988\n",
       "6     975\n",
       "7     990\n",
       "8     996\n",
       "9     994\n",
       "10    999\n",
       "11    991\n",
       "12    984\n",
       "13    990\n",
       "14    987\n",
       "15    997\n",
       "16    910\n",
       "17    940\n",
       "18    775\n",
       "19    628\n",
       "dtype: int64"
      ]
     },
     "metadata": {},
     "execution_count": 8
    }
   ],
   "source": [
    "pd.Series(news.target).value_counts().sort_index()"
   ]
  },
  {
   "cell_type": "code",
   "execution_count": 9,
   "metadata": {},
   "outputs": [
    {
     "output_type": "stream",
     "name": "stdout",
     "text": [
      "From: dagibbs@quantum.qnx.com (David Gibbs)\nSubject: Re: Countersteering sans Hands\nOrganization: QNX Software Systems, Ltd.\nLines: 22\n\nIn article <1993Apr20.203344.8417@cs.cornell.edu> karr@cs.cornell.edu (David Karr) writes:\n>In article <Clarke.6.735328328@bdrc.bd.com> Clarke@bdrc.bd.com (Richard Clarke) writes:\n>>So how do I steer when my hands aren't on the bars? (Open Budweiser in left \n>>hand, Camel cigarette in the right, no feet allowed.) \n>\n>>If I lean, and the \n>>bike turns, am I countersteering?\n>\n>No, the bars would turn only *toward* the direction of turn in\n>no-hands steering.\n\nJust in case the original poster was looking for a serious answer,\nI'll supply one.\n\nYes, even when steering no hands you do something quite similar\nto countersteering.  Basically to turn left, you to a quick wiggle\nof the bike to the right first, causing a counteracting lean to\noccur to the left.  It is a lot more difficult to do on a motorcycle\nthan a bicycle though, because of the extra weight.  (Ok, so my\nmotorcycle is heavy.  Maybe yous isn't.)\n\n-David\n\n"
     ]
    }
   ],
   "source": [
    "print(news.data[0])"
   ]
  },
  {
   "cell_type": "code",
   "execution_count": 10,
   "metadata": {},
   "outputs": [],
   "source": [
    "train_news = fetch_20newsgroups(subset='train', random_state=2021, remove=('headers', 'footers', 'quotes'))\n",
    "X_train = train_news.data\n",
    "y_train = train_news.target"
   ]
  },
  {
   "cell_type": "code",
   "execution_count": 13,
   "metadata": {},
   "outputs": [
    {
     "output_type": "stream",
     "name": "stdout",
     "text": [
      "]Is it possible to do a \"wheelie\" on a motorcycle with shaft-drive?\n\nyes.\n 8\n"
     ]
    }
   ],
   "source": [
    "print(X_train[1], y_train[1])"
   ]
  },
  {
   "cell_type": "code",
   "execution_count": 14,
   "metadata": {},
   "outputs": [],
   "source": [
    "test_news = fetch_20newsgroups(subset='test', random_state=2021, remove=('headers', 'footers', 'quotes'))\n",
    "X_test = test_news.data\n",
    "y_test = test_news.target"
   ]
  },
  {
   "cell_type": "code",
   "execution_count": 16,
   "metadata": {},
   "outputs": [
    {
     "output_type": "execute_result",
     "data": {
      "text/plain": [
       "(11314, 7532)"
      ]
     },
     "metadata": {},
     "execution_count": 16
    }
   ],
   "source": [
    "len(X_train), len(X_test)"
   ]
  },
  {
   "source": [
    "### 피처 백터화\n",
    "- Case 1) Count Vectorizer"
   ],
   "cell_type": "markdown",
   "metadata": {}
  },
  {
   "cell_type": "code",
   "execution_count": 24,
   "metadata": {},
   "outputs": [],
   "source": [
    "from sklearn.feature_extraction.text import CountVectorizer\n",
    "cvet = CountVectorizer()\n",
    "cvet.fit(X_train)\n",
    "X_train_count = cvet.transform(X_train)\n",
    "X_test_count = cvet.transform(X_test)"
   ]
  },
  {
   "cell_type": "code",
   "execution_count": 25,
   "metadata": {},
   "outputs": [
    {
     "output_type": "execute_result",
     "data": {
      "text/plain": [
       "(11314, 101631)"
      ]
     },
     "metadata": {},
     "execution_count": 25
    }
   ],
   "source": [
    "X_train_count.shape"
   ]
  },
  {
   "cell_type": "code",
   "execution_count": 26,
   "metadata": {},
   "outputs": [
    {
     "output_type": "execute_result",
     "data": {
      "text/plain": [
       "(7532, 101631)"
      ]
     },
     "metadata": {},
     "execution_count": 26
    }
   ],
   "source": [
    "X_test_count.shape"
   ]
  },
  {
   "source": [
    "### - case 2) TFIDF Vectorizer"
   ],
   "cell_type": "markdown",
   "metadata": {}
  },
  {
   "cell_type": "code",
   "execution_count": 29,
   "metadata": {},
   "outputs": [],
   "source": [
    "from sklearn.feature_extraction.text import TfidfVectorizer"
   ]
  },
  {
   "cell_type": "code",
   "execution_count": 30,
   "metadata": {},
   "outputs": [],
   "source": [
    "tvet = TfidfVectorizer()"
   ]
  },
  {
   "cell_type": "code",
   "execution_count": 31,
   "metadata": {},
   "outputs": [],
   "source": [
    "tvet.fit(X_train)\n",
    "X_train_tfidf = tvet.transform(X_train)\n",
    "X_test_tfidf = tvet.transform(X_test)"
   ]
  },
  {
   "cell_type": "code",
   "execution_count": 32,
   "metadata": {},
   "outputs": [
    {
     "output_type": "execute_result",
     "data": {
      "text/plain": [
       "(11314, 101631)"
      ]
     },
     "metadata": {},
     "execution_count": 32
    }
   ],
   "source": [
    "X_train_tfidf.shape"
   ]
  },
  {
   "cell_type": "code",
   "execution_count": 33,
   "metadata": {},
   "outputs": [
    {
     "output_type": "execute_result",
     "data": {
      "text/plain": [
       "(7532, 101631)"
      ]
     },
     "metadata": {},
     "execution_count": 33
    }
   ],
   "source": [
    "X_test_tfidf.shape"
   ]
  },
  {
   "source": [
    "### Logistic Regression 으로 분류 "
   ],
   "cell_type": "markdown",
   "metadata": {}
  },
  {
   "cell_type": "code",
   "execution_count": 35,
   "metadata": {},
   "outputs": [],
   "source": [
    "from sklearn.linear_model import LogisticRegression"
   ]
  },
  {
   "cell_type": "code",
   "execution_count": 36,
   "metadata": {},
   "outputs": [],
   "source": [
    "lr = LogisticRegression()"
   ]
  },
  {
   "cell_type": "code",
   "execution_count": 37,
   "metadata": {},
   "outputs": [
    {
     "output_type": "stream",
     "name": "stderr",
     "text": [
      "C:\\Users\\yongmimi\\AppData\\Local\\Programs\\Python\\Python39\\lib\\site-packages\\sklearn\\linear_model\\_logistic.py:763: ConvergenceWarning: lbfgs failed to converge (status=1):\nSTOP: TOTAL NO. of ITERATIONS REACHED LIMIT.\n\nIncrease the number of iterations (max_iter) or scale the data as shown in:\n    https://scikit-learn.org/stable/modules/preprocessing.html\nPlease also refer to the documentation for alternative solver options:\n    https://scikit-learn.org/stable/modules/linear_model.html#logistic-regression\n  n_iter_i = _check_optimize_result(\n"
     ]
    }
   ],
   "source": [
    "lr.fit(X_train_count, y_train)\n",
    "pred_count = lr.predict(X_test_count)"
   ]
  },
  {
   "cell_type": "code",
   "execution_count": 38,
   "metadata": {},
   "outputs": [
    {
     "output_type": "execute_result",
     "data": {
      "text/plain": [
       "0.6068773234200744"
      ]
     },
     "metadata": {},
     "execution_count": 38
    }
   ],
   "source": [
    "from sklearn.metrics import accuracy_score\n",
    "accuracy_score(y_test, pred_count)"
   ]
  },
  {
   "source": [
    " - TfidfVectorizer로 백터화한 데이터"
   ],
   "cell_type": "markdown",
   "metadata": {}
  },
  {
   "cell_type": "code",
   "execution_count": 39,
   "metadata": {},
   "outputs": [
    {
     "output_type": "execute_result",
     "data": {
      "text/plain": [
       "0.6736590546999469"
      ]
     },
     "metadata": {},
     "execution_count": 39
    }
   ],
   "source": [
    "lr = LogisticRegression()\n",
    "lr.fit(X_train_tfidf, y_train)\n",
    "pred_tfidf = lr.predict(X_test_tfidf)\n",
    "accuracy_score(y_test, pred_tfidf)"
   ]
  },
  {
   "source": [
    "### Decision Tree"
   ],
   "cell_type": "markdown",
   "metadata": {}
  },
  {
   "cell_type": "code",
   "execution_count": 42,
   "metadata": {},
   "outputs": [],
   "source": [
    "from sklearn.tree import DecisionTreeRegressor\n",
    "from sklearn.tree import DecisionTreeClassifier"
   ]
  },
  {
   "cell_type": "code",
   "execution_count": 43,
   "metadata": {},
   "outputs": [
    {
     "output_type": "execute_result",
     "data": {
      "text/plain": [
       "0.3993627190653213"
      ]
     },
     "metadata": {},
     "execution_count": 43
    }
   ],
   "source": [
    "dtc = DecisionTreeClassifier()\n",
    "dtc.fit(X_train_tfidf, y_train)\n",
    "pred_dtc = dtc.predict(X_test_tfidf)\n",
    "accuracy_score(y_test, pred_dtc)"
   ]
  },
  {
   "source": [
    "### Navie Bayes 로 분류"
   ],
   "cell_type": "markdown",
   "metadata": {}
  },
  {
   "cell_type": "code",
   "execution_count": 47,
   "metadata": {},
   "outputs": [
    {
     "output_type": "execute_result",
     "data": {
      "text/plain": [
       "0.6062134891131173"
      ]
     },
     "metadata": {},
     "execution_count": 47
    }
   ],
   "source": [
    "from sklearn.naive_bayes import MultinomialNB\n",
    "nb = MultinomialNB()\n",
    "nb.fit(X_train_tfidf, y_train)\n",
    "pred_nb = nb.predict(X_test_tfidf)\n",
    "accuracy_score(y_test, pred_nb)"
   ]
  },
  {
   "source": [
    " - case 3 ) TFIDF, ngram_range=(1,2), stopwords, max_df = 300"
   ],
   "cell_type": "markdown",
   "metadata": {}
  },
  {
   "cell_type": "code",
   "execution_count": 49,
   "metadata": {},
   "outputs": [],
   "source": [
    "tvet3 = TfidfVectorizer(ngram_range=(1,2), stop_words='english', max_df=300)\n",
    "tvet3.fit(X_train)\n",
    "X_train_tfidf3 = tvet3.transform(X_train)\n",
    "X_test_tfidf3 = tvet3.transform(X_test)"
   ]
  },
  {
   "cell_type": "code",
   "execution_count": 50,
   "metadata": {},
   "outputs": [
    {
     "output_type": "execute_result",
     "data": {
      "text/plain": [
       "0.6922464152947424"
      ]
     },
     "metadata": {},
     "execution_count": 50
    }
   ],
   "source": [
    "lr = LogisticRegression()\n",
    "lr.fit(X_train_tfidf3, y_train)\n",
    "pred3 = lr.predict(X_test_tfidf3)\n",
    "accuracy_score(y_test, pred3)"
   ]
  },
  {
   "cell_type": "code",
   "execution_count": 51,
   "metadata": {},
   "outputs": [
    {
     "output_type": "execute_result",
     "data": {
      "text/plain": [
       "((11314, 101631), (11314, 943453))"
      ]
     },
     "metadata": {},
     "execution_count": 51
    }
   ],
   "source": [
    "X_train_tfidf.shape, X_train_tfidf3.shape"
   ]
  },
  {
   "source": [
    "- case 4) Case 3에서 Logistic Regression 파라미터 C의 값을 10으로 "
   ],
   "cell_type": "markdown",
   "metadata": {}
  },
  {
   "cell_type": "code",
   "execution_count": 52,
   "metadata": {},
   "outputs": [
    {
     "output_type": "stream",
     "name": "stderr",
     "text": [
      "C:\\Users\\yongmimi\\AppData\\Local\\Programs\\Python\\Python39\\lib\\site-packages\\sklearn\\linear_model\\_logistic.py:763: ConvergenceWarning: lbfgs failed to converge (status=1):\n",
      "STOP: TOTAL NO. of ITERATIONS REACHED LIMIT.\n",
      "\n",
      "Increase the number of iterations (max_iter) or scale the data as shown in:\n",
      "    https://scikit-learn.org/stable/modules/preprocessing.html\n",
      "Please also refer to the documentation for alternative solver options:\n",
      "    https://scikit-learn.org/stable/modules/linear_model.html#logistic-regression\n",
      "  n_iter_i = _check_optimize_result(\n",
      "Wall time: 0 ns\n"
     ]
    }
   ],
   "source": [
    "lr4 = LogisticRegression(C=10)\n",
    "lr4.fit(X_train_tfidf3, y_train)\n",
    "pred4 = lr4.predict(X_test_tfidf3)\n",
    "accuracy_score(y_test, pred4)\n",
    "%time"
   ]
  },
  {
   "cell_type": "code",
   "execution_count": 53,
   "metadata": {},
   "outputs": [
    {
     "output_type": "execute_result",
     "data": {
      "text/plain": [
       "0.7010090281465746"
      ]
     },
     "metadata": {},
     "execution_count": 53
    }
   ],
   "source": [
    "accuracy_score(y_test, pred4)\n"
   ]
  }
 ]
}